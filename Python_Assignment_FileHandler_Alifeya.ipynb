{
 "cells": [
  {
   "cell_type": "markdown",
   "id": "691d2247-8624-4abe-a867-63aa2e718c11",
   "metadata": {},
   "source": [
    "# E-Commerce Product Information Management System"
   ]
  },
  {
   "cell_type": "markdown",
   "id": "67869d10-52bf-4f5e-b451-3849132825c0",
   "metadata": {
    "jp-MarkdownHeadingCollapsed": true
   },
   "source": [
    "## Task 1 - Import required modules"
   ]
  },
  {
   "cell_type": "code",
   "execution_count": 1,
   "id": "d7dbc6c0-169f-44ba-90bb-aa999c870afe",
   "metadata": {},
   "outputs": [],
   "source": [
    "import os\n",
    "import csv\n",
    "import json\n",
    "import pprint"
   ]
  },
  {
   "cell_type": "markdown",
   "id": "8d616f0f-6121-4be5-a444-358494203fe3",
   "metadata": {
    "jp-MarkdownHeadingCollapsed": true
   },
   "source": [
    "## Task 2 - Load the data"
   ]
  },
  {
   "cell_type": "markdown",
   "id": "81d85752-145d-472b-9ac9-9e6a57fa1064",
   "metadata": {},
   "source": [
    "Define the load_data() function."
   ]
  },
  {
   "cell_type": "code",
   "execution_count": 2,
   "id": "a61224ce-b528-4bb8-b9d6-a96544e16d8c",
   "metadata": {},
   "outputs": [
    {
     "data": {
      "text/plain": [
       "({'AISJDKFJW93NJ': [10, 12, 15, 18, 20, 22, 25, 28, 26, 30, 32, 29, 27, 24],\n",
       "  'DJKFIEI432FIE': [8, 10, 12, 15, 20, 18, 14, 13, 17, 10, 8, 11, 14, 16],\n",
       "  'GGOENEBJ079499': [15, 18, 22, 25, 28, 20, 17, 23, 19, 21, 24, 27, 18, 20],\n",
       "  'HJSKNWK429DJE': [30, 32, 35, 38, 40, 42, 45, 48, 50, 52, 55, 53, 49, 47],\n",
       "  'JFKL3940NFKLJ': [18, 20, 22, 25, 28, 30, 32, 35, 38, 36, 33, 29, 26, 24],\n",
       "  'LKDFJ49LSDJKL': [25, 28, 30, 32, 35, 38, 42, 40, 37, 34, 36, 31, 29, 27],\n",
       "  'MWKDI3JFK39SL': [30, 35, 40, 45, 50, 42, 37, 38, 41, 36, 33, 39, 40, 44],\n",
       "  'NEKFJOWE9FDIW': [12, 15, 18, 20, 22, 24, 21, 23, 25, 28, 30, 27, 26, 29],\n",
       "  'OWEJL398FWJLK': [20, 22, 25, 28, 30, 32, 35, 38, 36, 33, 29, 26, 24, 27],\n",
       "  'XPLFJW2490XJN': [5, 8, 9, 12, 15, 10, 14, 16, 20, 18, 22, 25, 19, 21]},\n",
       " {'AISJDKFJW93NJ': {'product_name': 'Wall Art Print',\n",
       "   'brand': 'ArtCraft',\n",
       "   'model': 'NatureCanvas-1001',\n",
       "   'specifications': 'Canvas print, Ready to hang',\n",
       "   'price': '$49.99',\n",
       "   'availability': 'In stock'},\n",
       "  'DJKFIEI432FIE': {'product_name': \"Men's Running Shoes\",\n",
       "   'brand': 'RunFit',\n",
       "   'model': 'SpeedX-500',\n",
       "   'specifications': 'Size 10, Lightweight design, Breathable material',\n",
       "   'price': '$79.99',\n",
       "   'availability': 'In stock'},\n",
       "  'GGOENEBJ079499': {'product_name': 'Smartphone',\n",
       "   'brand': 'XYZ Electronics',\n",
       "   'model': 'ABC-2000',\n",
       "   'specifications': '6.5-inch display, 128GB storage, 16MP camera',\n",
       "   'price': '$499.99',\n",
       "   'availability': 'In stock'},\n",
       "  'HJSKNWK429DJE': {'product_name': 'Wireless Earbuds',\n",
       "   'brand': 'SoundSync',\n",
       "   'model': 'TunePro-2022',\n",
       "   'specifications': 'Bluetooth 5.0, 20 hours battery life, Touch controls',\n",
       "   'price': '$89.99',\n",
       "   'availability': 'In stock'},\n",
       "  'JFKL3940NFKLJ': {'product_name': 'Resistance Bands Set',\n",
       "   'brand': 'FitFlex',\n",
       "   'model': 'StrengthPro-300',\n",
       "   'specifications': '5 bands, Varying resistance levels, Portable',\n",
       "   'price': '$34.99',\n",
       "   'availability': 'In stock'},\n",
       "  'LKDFJ49LSDJKL': {'product_name': 'Anti-Aging Face Cream',\n",
       "   'brand': 'GlowBeauty',\n",
       "   'model': 'AgeDefy-300',\n",
       "   'specifications': 'Natural ingredients, Hydrating formula',\n",
       "   'price': '$39.99',\n",
       "   'availability': 'In stock'},\n",
       "  'MWKDI3JFK39SL': {'product_name': 'Fictional Novel',\n",
       "   'brand': 'BestBooks',\n",
       "   'model': None,\n",
       "   'specifications': 'Paperback, 300 pages',\n",
       "   'price': '$14.99',\n",
       "   'availability': 'In stock'},\n",
       "  'NEKFJOWE9FDIW': {'product_name': 'Board Game',\n",
       "   'brand': 'FamilyFun',\n",
       "   'model': 'GameNight-2022',\n",
       "   'specifications': '2-6 players, Ages 8 and up',\n",
       "   'price': '$29.99',\n",
       "   'availability': 'In stock'},\n",
       "  'OWEJL398FWJLK': {'product_name': 'Yoga Mat',\n",
       "   'brand': 'ZenFitness',\n",
       "   'model': 'EcoMat-500',\n",
       "   'specifications': 'Non-slip, 6mm thickness, Eco-friendly material',\n",
       "   'price': '$19.99',\n",
       "   'availability': 'In stock'},\n",
       "  'XPLFJW2490XJN': {'product_name': 'Robot Vacuum Cleaner',\n",
       "   'brand': 'CleanTech',\n",
       "   'model': 'AutoSweep-9000',\n",
       "   'specifications': 'Smart navigation, HEPA filter, 90 minutes runtime',\n",
       "   'price': '$249.99',\n",
       "   'availability': 'In stock'}},\n",
       " {'AISJDKFJW93NJ': \"Transform your living space with ArtCraft's NatureCanvas-1001 Wall Art Print.\\nThis canvas print, ready to hang, brings the beauty of nature into your home.\\nWith dimensions of 16 x 20 inches and a 4.6/5 stars rating, it's a stunning addition to your decor, creating a focal point that captures attention and sparks conversation.\",\n",
       "  'DJKFIEI432FIE': \"Elevate your running experience with the RunFit SpeedX-500 Men's Running Shoes.\\nDesigned for performance, these shoes feature a lightweight design, breathable material, and are available in vibrant Red, Blue, and classic Black.\\nWhether you're a seasoned runner or just starting, these shoes provide comfort and support for every stride, ensuring you reach new milestones effortlessly.\",\n",
       "  'GGOENEBJ079499': 'Dive into the future with the XYZ Electronics Smartphone, model ABC-2000.\\nBoasting a 6.5-inch display, 128GB storage, and a 16MP camera, this powerful device redefines the smartphone experience.\\nWith a sleek design and available in Black, Silver, and Blue, it combines cutting-edge technology with style, ensuring you stay connected in the most sophisticated way possible.',\n",
       "  'HJSKNWK429DJE': \"Immerse yourself in superior audio quality with SoundSync's TunePro-2022 Wireless Earbuds.\\nFeaturing Bluetooth 5.0, 20 hours of battery life, and touch controls, these earbuds deliver a seamless and immersive listening experience.\\nAvailable in Black and White, they combine style with functionality for music lovers on the go. \\nWith a 4.7/5 stars rating, they stand out as a top choice in the realm of wireless audio.\",\n",
       "  'JFKL3940NFKLJ': \"Embrace versatility in your workouts with FitFlex's StrengthPro-300 Resistance Bands Set.\\nWith 5 bands offering varying resistance levels and portability, this set is your go-to for effective strength training.\\nAvailable in Red, Yellow, and Blue, it caters to different fitness levels and adds a dynamic dimension to your exercise routine.\",\n",
       "  'LKDFJ49LSDJKL': \"Rediscover youthful radiance with GlowBeauty's AgeDefy-300 Anti-Aging Face Cream.\\nFormulated with natural ingredients and a hydrating formula, this skincare essential rejuvenates and nourishes your skin, leaving you with a vibrant and refreshed complexion.\\nWith a stellar 4.7/5 stars rating, it's a must-have for those embracing the journey to ageless beauty.\",\n",
       "  'MWKDI3JFK39SL': \"Immerse yourself in the world of storytelling with BestBooks' Fictional Novel.\\nThis paperback, spanning 300 pages, promises a captivating journey through the pages of an engaging narrative.\\nIdeal for avid readers seeking an escape, this novel, with a 4.6/5 stars rating, is a testament to its ability to weave a compelling tale that keeps you hooked until the last page.\",\n",
       "  'NEKFJOWE9FDIW': \"Unleash the fun with FamilyFun's GameNight-2022 Board Game.\\nDesigned for 2-6 players and suitable for ages 8 and up, this exciting game promises laughter and bonding moments for the entire family.\\nWith a 4.4/5 stars rating, it's a testament to its ability to turn any ordinary night into an extraordinary game night filled with friendly competition and shared joy.\",\n",
       "  'OWEJL398FWJLK': \"Elevate your yoga practice with ZenFitness' EcoMat-500 Yoga Mat.\\nFeaturing a non-slip surface, 6mm thickness, and eco-friendly materials, this high-quality mat provides the perfect foundation for your workouts.\\nAvailable in Purple, Green, and Blue, it not only enhances your comfort but also adds a touch of serenity to your exercise routine.\",\n",
       "  'XPLFJW2490XJN': 'Introducing the CleanTech AutoSweep-9000 Robot Vacuum Cleaner â€“ your smart companion for automated cleaning.\\nWith smart navigation, a HEPA filter, and a runtime of 90 minutes, this efficient device takes care of your cleaning needs.\\nAvailable in White and Silver, it blends seamlessly into your home, making cleanliness a hassle-free experience.'})"
      ]
     },
     "execution_count": 2,
     "metadata": {},
     "output_type": "execute_result"
    }
   ],
   "source": [
    "def load_data(main_folder):\n",
    "    sales_data = {}\n",
    "    product_details = {}\n",
    "    product_descriptions = {}\n",
    "    \n",
    "    # Load sales_data from sales_data.csv\n",
    "    with open(os.path.join(main_folder, \"sales_data.csv\"), mode='r', newline='') as csvfile:\n",
    "        reader = csv.DictReader(csvfile)\n",
    "        for row in reader:\n",
    "            sales_data[row['Product_SKU']] = [int(row[f'Day{i}']) for i in range(1, 15)]  # Assuming Day1 to Day14 columns in CSV\n",
    "    \n",
    "    # Load product_details from JSON files in product_details folder\n",
    "    product_details_folder = os.path.join(main_folder, \"product_details\")\n",
    "    for filename in os.listdir(product_details_folder):\n",
    "        if filename.endswith('.json'):\n",
    "            with open(os.path.join(product_details_folder, filename), mode='r') as jsonfile:\n",
    "                product_id = os.path.splitext(filename)[0]\n",
    "                product_details[product_id] = json.load(jsonfile)\n",
    "    \n",
    "    # Load product_descriptions from TXT files in product_description folder\n",
    "    product_description_folder = os.path.join(main_folder, \"product_descriptions\")\n",
    "    for filename in os.listdir(product_description_folder):\n",
    "        if filename.endswith('.txt'):\n",
    "            with open(os.path.join(product_description_folder, filename), mode='r') as txtfile:\n",
    "                product_id = os.path.splitext(filename)[0]\n",
    "                product_descriptions[product_id] = txtfile.read()\n",
    "    \n",
    "    return sales_data, product_details, product_descriptions\n",
    "\n",
    "# Call the function and store the data in respective dictionaries\n",
    "sales_data, product_details, product_descriptions = load_data(r\"E:\\main_folder_address\")\n",
    "sales_data, product_details, product_descriptions\n"
   ]
  },
  {
   "cell_type": "markdown",
   "id": "cabba475-9b13-47cb-a834-b98cbc7fb7d7",
   "metadata": {
    "jp-MarkdownHeadingCollapsed": true
   },
   "source": [
    "## Task 3 - Explore the data"
   ]
  },
  {
   "cell_type": "markdown",
   "id": "1112f494-50d8-41e1-9733-43b78fa39073",
   "metadata": {},
   "source": [
    "Display data form sales_data"
   ]
  },
  {
   "cell_type": "code",
   "execution_count": 3,
   "id": "fd0779bd-b948-49eb-bf87-ccec615e36b4",
   "metadata": {},
   "outputs": [
    {
     "name": "stdout",
     "output_type": "stream",
     "text": [
      "Sales Data:\n",
      "{'AISJDKFJW93NJ': [10, 12, 15, 18, 20, 22, 25, 28, 26, 30, 32, 29, 27, 24],\n",
      " 'DJKFIEI432FIE': [8, 10, 12, 15, 20, 18, 14, 13, 17, 10, 8, 11, 14, 16],\n",
      " 'GGOENEBJ079499': [15, 18, 22, 25, 28, 20, 17, 23, 19, 21, 24, 27, 18, 20],\n",
      " 'HJSKNWK429DJE': [30, 32, 35, 38, 40, 42, 45, 48, 50, 52, 55, 53, 49, 47],\n",
      " 'JFKL3940NFKLJ': [18, 20, 22, 25, 28, 30, 32, 35, 38, 36, 33, 29, 26, 24],\n",
      " 'LKDFJ49LSDJKL': [25, 28, 30, 32, 35, 38, 42, 40, 37, 34, 36, 31, 29, 27],\n",
      " 'MWKDI3JFK39SL': [30, 35, 40, 45, 50, 42, 37, 38, 41, 36, 33, 39, 40, 44],\n",
      " 'NEKFJOWE9FDIW': [12, 15, 18, 20, 22, 24, 21, 23, 25, 28, 30, 27, 26, 29],\n",
      " 'OWEJL398FWJLK': [20, 22, 25, 28, 30, 32, 35, 38, 36, 33, 29, 26, 24, 27],\n",
      " 'XPLFJW2490XJN': [5, 8, 9, 12, 15, 10, 14, 16, 20, 18, 22, 25, 19, 21]}\n"
     ]
    }
   ],
   "source": [
    "# Use pprint to format and print the output\n",
    "print(\"Sales Data:\")\n",
    "pprint.pprint(sales_data)"
   ]
  },
  {
   "cell_type": "markdown",
   "id": "85dd547e-84fc-42d4-a33c-d4999d86dd01",
   "metadata": {},
   "source": [
    "Display data form product_details"
   ]
  },
  {
   "cell_type": "code",
   "execution_count": 4,
   "id": "0d75e642-9845-4b0b-964d-7533b09d122c",
   "metadata": {
    "scrolled": true
   },
   "outputs": [
    {
     "name": "stdout",
     "output_type": "stream",
     "text": [
      "Product Details:\n",
      "{'AISJDKFJW93NJ': {'availability': 'In stock',\n",
      "                   'brand': 'ArtCraft',\n",
      "                   'model': 'NatureCanvas-1001',\n",
      "                   'price': '$49.99',\n",
      "                   'product_name': 'Wall Art Print',\n",
      "                   'specifications': 'Canvas print, Ready to hang'},\n",
      " 'DJKFIEI432FIE': {'availability': 'In stock',\n",
      "                   'brand': 'RunFit',\n",
      "                   'model': 'SpeedX-500',\n",
      "                   'price': '$79.99',\n",
      "                   'product_name': \"Men's Running Shoes\",\n",
      "                   'specifications': 'Size 10, Lightweight design, Breathable '\n",
      "                                     'material'},\n",
      " 'GGOENEBJ079499': {'availability': 'In stock',\n",
      "                    'brand': 'XYZ Electronics',\n",
      "                    'model': 'ABC-2000',\n",
      "                    'price': '$499.99',\n",
      "                    'product_name': 'Smartphone',\n",
      "                    'specifications': '6.5-inch display, 128GB storage, 16MP '\n",
      "                                      'camera'},\n",
      " 'HJSKNWK429DJE': {'availability': 'In stock',\n",
      "                   'brand': 'SoundSync',\n",
      "                   'model': 'TunePro-2022',\n",
      "                   'price': '$89.99',\n",
      "                   'product_name': 'Wireless Earbuds',\n",
      "                   'specifications': 'Bluetooth 5.0, 20 hours battery life, '\n",
      "                                     'Touch controls'},\n",
      " 'JFKL3940NFKLJ': {'availability': 'In stock',\n",
      "                   'brand': 'FitFlex',\n",
      "                   'model': 'StrengthPro-300',\n",
      "                   'price': '$34.99',\n",
      "                   'product_name': 'Resistance Bands Set',\n",
      "                   'specifications': '5 bands, Varying resistance levels, '\n",
      "                                     'Portable'},\n",
      " 'LKDFJ49LSDJKL': {'availability': 'In stock',\n",
      "                   'brand': 'GlowBeauty',\n",
      "                   'model': 'AgeDefy-300',\n",
      "                   'price': '$39.99',\n",
      "                   'product_name': 'Anti-Aging Face Cream',\n",
      "                   'specifications': 'Natural ingredients, Hydrating formula'},\n",
      " 'MWKDI3JFK39SL': {'availability': 'In stock',\n",
      "                   'brand': 'BestBooks',\n",
      "                   'model': None,\n",
      "                   'price': '$14.99',\n",
      "                   'product_name': 'Fictional Novel',\n",
      "                   'specifications': 'Paperback, 300 pages'},\n",
      " 'NEKFJOWE9FDIW': {'availability': 'In stock',\n",
      "                   'brand': 'FamilyFun',\n",
      "                   'model': 'GameNight-2022',\n",
      "                   'price': '$29.99',\n",
      "                   'product_name': 'Board Game',\n",
      "                   'specifications': '2-6 players, Ages 8 and up'},\n",
      " 'OWEJL398FWJLK': {'availability': 'In stock',\n",
      "                   'brand': 'ZenFitness',\n",
      "                   'model': 'EcoMat-500',\n",
      "                   'price': '$19.99',\n",
      "                   'product_name': 'Yoga Mat',\n",
      "                   'specifications': 'Non-slip, 6mm thickness, Eco-friendly '\n",
      "                                     'material'},\n",
      " 'XPLFJW2490XJN': {'availability': 'In stock',\n",
      "                   'brand': 'CleanTech',\n",
      "                   'model': 'AutoSweep-9000',\n",
      "                   'price': '$249.99',\n",
      "                   'product_name': 'Robot Vacuum Cleaner',\n",
      "                   'specifications': 'Smart navigation, HEPA filter, 90 '\n",
      "                                     'minutes runtime'}}\n"
     ]
    }
   ],
   "source": [
    "# Use pprint to format and print the output\n",
    "print(\"Product Details:\")\n",
    "pprint.pprint(product_details)"
   ]
  },
  {
   "cell_type": "markdown",
   "id": "ea3f1bb2-1a09-47ee-be15-8dc9f0eb168d",
   "metadata": {},
   "source": [
    "Display data form product_descriptions."
   ]
  },
  {
   "cell_type": "code",
   "execution_count": 5,
   "id": "65ccccc6-7d5d-4a5a-a92c-a174aa74d5f4",
   "metadata": {},
   "outputs": [
    {
     "name": "stdout",
     "output_type": "stream",
     "text": [
      "Product Descriptions:\n",
      "{'AISJDKFJW93NJ': \"Transform your living space with ArtCraft's \"\n",
      "                  'NatureCanvas-1001 Wall Art Print.\\n'\n",
      "                  'This canvas print, ready to hang, brings the beauty of '\n",
      "                  'nature into your home.\\n'\n",
      "                  'With dimensions of 16 x 20 inches and a 4.6/5 stars rating, '\n",
      "                  \"it's a stunning addition to your decor, creating a focal \"\n",
      "                  'point that captures attention and sparks conversation.',\n",
      " 'DJKFIEI432FIE': 'Elevate your running experience with the RunFit SpeedX-500 '\n",
      "                  \"Men's Running Shoes.\\n\"\n",
      "                  'Designed for performance, these shoes feature a lightweight '\n",
      "                  'design, breathable material, and are available in vibrant '\n",
      "                  'Red, Blue, and classic Black.\\n'\n",
      "                  \"Whether you're a seasoned runner or just starting, these \"\n",
      "                  'shoes provide comfort and support for every stride, '\n",
      "                  'ensuring you reach new milestones effortlessly.',\n",
      " 'GGOENEBJ079499': 'Dive into the future with the XYZ Electronics Smartphone, '\n",
      "                   'model ABC-2000.\\n'\n",
      "                   'Boasting a 6.5-inch display, 128GB storage, and a 16MP '\n",
      "                   'camera, this powerful device redefines the smartphone '\n",
      "                   'experience.\\n'\n",
      "                   'With a sleek design and available in Black, Silver, and '\n",
      "                   'Blue, it combines cutting-edge technology with style, '\n",
      "                   'ensuring you stay connected in the most sophisticated way '\n",
      "                   'possible.',\n",
      " 'HJSKNWK429DJE': \"Immerse yourself in superior audio quality with SoundSync's \"\n",
      "                  'TunePro-2022 Wireless Earbuds.\\n'\n",
      "                  'Featuring Bluetooth 5.0, 20 hours of battery life, and '\n",
      "                  'touch controls, these earbuds deliver a seamless and '\n",
      "                  'immersive listening experience.\\n'\n",
      "                  'Available in Black and White, they combine style with '\n",
      "                  'functionality for music lovers on the go. \\n'\n",
      "                  'With a 4.7/5 stars rating, they stand out as a top choice '\n",
      "                  'in the realm of wireless audio.',\n",
      " 'JFKL3940NFKLJ': \"Embrace versatility in your workouts with FitFlex's \"\n",
      "                  'StrengthPro-300 Resistance Bands Set.\\n'\n",
      "                  'With 5 bands offering varying resistance levels and '\n",
      "                  'portability, this set is your go-to for effective strength '\n",
      "                  'training.\\n'\n",
      "                  'Available in Red, Yellow, and Blue, it caters to different '\n",
      "                  'fitness levels and adds a dynamic dimension to your '\n",
      "                  'exercise routine.',\n",
      " 'LKDFJ49LSDJKL': \"Rediscover youthful radiance with GlowBeauty's AgeDefy-300 \"\n",
      "                  'Anti-Aging Face Cream.\\n'\n",
      "                  'Formulated with natural ingredients and a hydrating '\n",
      "                  'formula, this skincare essential rejuvenates and nourishes '\n",
      "                  'your skin, leaving you with a vibrant and refreshed '\n",
      "                  'complexion.\\n'\n",
      "                  \"With a stellar 4.7/5 stars rating, it's a must-have for \"\n",
      "                  'those embracing the journey to ageless beauty.',\n",
      " 'MWKDI3JFK39SL': 'Immerse yourself in the world of storytelling with '\n",
      "                  \"BestBooks' Fictional Novel.\\n\"\n",
      "                  'This paperback, spanning 300 pages, promises a captivating '\n",
      "                  'journey through the pages of an engaging narrative.\\n'\n",
      "                  'Ideal for avid readers seeking an escape, this novel, with '\n",
      "                  'a 4.6/5 stars rating, is a testament to its ability to '\n",
      "                  'weave a compelling tale that keeps you hooked until the '\n",
      "                  'last page.',\n",
      " 'NEKFJOWE9FDIW': \"Unleash the fun with FamilyFun's GameNight-2022 Board \"\n",
      "                  'Game.\\n'\n",
      "                  'Designed for 2-6 players and suitable for ages 8 and up, '\n",
      "                  'this exciting game promises laughter and bonding moments '\n",
      "                  'for the entire family.\\n'\n",
      "                  \"With a 4.4/5 stars rating, it's a testament to its ability \"\n",
      "                  'to turn any ordinary night into an extraordinary game night '\n",
      "                  'filled with friendly competition and shared joy.',\n",
      " 'OWEJL398FWJLK': \"Elevate your yoga practice with ZenFitness' EcoMat-500 Yoga \"\n",
      "                  'Mat.\\n'\n",
      "                  'Featuring a non-slip surface, 6mm thickness, and '\n",
      "                  'eco-friendly materials, this high-quality mat provides the '\n",
      "                  'perfect foundation for your workouts.\\n'\n",
      "                  'Available in Purple, Green, and Blue, it not only enhances '\n",
      "                  'your comfort but also adds a touch of serenity to your '\n",
      "                  'exercise routine.',\n",
      " 'XPLFJW2490XJN': 'Introducing the CleanTech AutoSweep-9000 Robot Vacuum '\n",
      "                  'Cleaner â€“ your smart companion for automated cleaning.\\n'\n",
      "                  'With smart navigation, a HEPA filter, and a runtime of 90 '\n",
      "                  'minutes, this efficient device takes care of your cleaning '\n",
      "                  'needs.\\n'\n",
      "                  'Available in White and Silver, it blends seamlessly into '\n",
      "                  'your home, making cleanliness a hassle-free experience.'}\n"
     ]
    }
   ],
   "source": [
    "# Call the function and store the data in respective dictionaries\n",
    "print(\"Product Descriptions:\")\n",
    "pprint.pprint(product_descriptions)"
   ]
  },
  {
   "cell_type": "markdown",
   "id": "bc73e7fb-47d7-45db-9c94-4b36d38aaa5f",
   "metadata": {},
   "source": [
    "List of product SKUs"
   ]
  },
  {
   "cell_type": "code",
   "execution_count": 7,
   "id": "e42fbdaa-2b33-4da4-86fe-3860c102e992",
   "metadata": {},
   "outputs": [
    {
     "name": "stdout",
     "output_type": "stream",
     "text": [
      "['AISJDKFJW93NJ',\n",
      " 'DJKFIEI432FIE',\n",
      " 'GGOENEBJ079499',\n",
      " 'HJSKNWK429DJE',\n",
      " 'JFKL3940NFKLJ',\n",
      " 'LKDFJ49LSDJKL',\n",
      " 'MWKDI3JFK39SL',\n",
      " 'NEKFJOWE9FDIW',\n",
      " 'OWEJL398FWJLK',\n",
      " 'XPLFJW2490XJN']\n"
     ]
    }
   ],
   "source": [
    "pprint.pprint(list(sales_data.keys()))"
   ]
  },
  {
   "cell_type": "code",
   "execution_count": 8,
   "id": "759dff83-1c61-4b7f-b8fc-8f0b6a79d8b2",
   "metadata": {},
   "outputs": [
    {
     "name": "stdout",
     "output_type": "stream",
     "text": [
      "[10, 12, 15, 18, 20, 22, 25, 28, 26, 30, 32, 29, 27, 24]\n"
     ]
    }
   ],
   "source": [
    "print(sales_data.get('AISJDKFJW93NJ'))"
   ]
  },
  {
   "cell_type": "code",
   "execution_count": 9,
   "id": "5e89d5b6-05b3-4ac7-a6bb-de8ee0b19c7b",
   "metadata": {},
   "outputs": [
    {
     "name": "stdout",
     "output_type": "stream",
     "text": [
      "[8, 10, 12, 15, 20, 18, 14, 13, 17, 10, 8, 11, 14, 16]\n"
     ]
    }
   ],
   "source": [
    "print(sales_data.get('DJKFIEI432FIE'))"
   ]
  },
  {
   "cell_type": "code",
   "execution_count": 11,
   "id": "32a1c08f-1529-47fb-8e6a-b4f4a6199e02",
   "metadata": {},
   "outputs": [
    {
     "name": "stdout",
     "output_type": "stream",
     "text": [
      "{'availability': 'In stock',\n",
      " 'brand': 'ArtCraft',\n",
      " 'model': 'NatureCanvas-1001',\n",
      " 'price': '$49.99',\n",
      " 'product_name': 'Wall Art Print',\n",
      " 'specifications': 'Canvas print, Ready to hang'}\n"
     ]
    }
   ],
   "source": [
    "pprint.pprint(product_details.get('AISJDKFJW93NJ'))"
   ]
  },
  {
   "cell_type": "code",
   "execution_count": 12,
   "id": "2c284071-52cf-4b91-b86f-6cdc9be67294",
   "metadata": {},
   "outputs": [
    {
     "name": "stdout",
     "output_type": "stream",
     "text": [
      "{'availability': 'In stock',\n",
      " 'brand': 'RunFit',\n",
      " 'model': 'SpeedX-500',\n",
      " 'price': '$79.99',\n",
      " 'product_name': \"Men's Running Shoes\",\n",
      " 'specifications': 'Size 10, Lightweight design, Breathable material'}\n"
     ]
    }
   ],
   "source": [
    "pprint.pprint(product_details.get('DJKFIEI432FIE'))"
   ]
  },
  {
   "cell_type": "code",
   "execution_count": 13,
   "id": "9d2ae9c1-fefa-4a69-80eb-da6ec7eb9e0c",
   "metadata": {},
   "outputs": [
    {
     "data": {
      "text/plain": [
       "\"Transform your living space with ArtCraft's NatureCanvas-1001 Wall Art Print.\\nThis canvas print, ready to hang, brings the beauty of nature into your home.\\nWith dimensions of 16 x 20 inches and a 4.6/5 stars rating, it's a stunning addition to your decor, creating a focal point that captures attention and sparks conversation.\""
      ]
     },
     "execution_count": 13,
     "metadata": {},
     "output_type": "execute_result"
    }
   ],
   "source": [
    "product_descriptions.get('AISJDKFJW93NJ')"
   ]
  },
  {
   "cell_type": "code",
   "execution_count": 14,
   "id": "d3db247c-6f44-4b55-96b7-a5b6c08980f4",
   "metadata": {},
   "outputs": [
    {
     "data": {
      "text/plain": [
       "\"Elevate your running experience with the RunFit SpeedX-500 Men's Running Shoes.\\nDesigned for performance, these shoes feature a lightweight design, breathable material, and are available in vibrant Red, Blue, and classic Black.\\nWhether you're a seasoned runner or just starting, these shoes provide comfort and support for every stride, ensuring you reach new milestones effortlessly.\""
      ]
     },
     "execution_count": 14,
     "metadata": {},
     "output_type": "execute_result"
    }
   ],
   "source": [
    "product_descriptions.get('DJKFIEI432FIE')"
   ]
  },
  {
   "cell_type": "markdown",
   "id": "9b57636c-07d1-4170-9dda-2ccc3e4ea9b1",
   "metadata": {},
   "source": [
    "Length of sales_data, product_details, and product_descriptions."
   ]
  },
  {
   "cell_type": "code",
   "execution_count": 15,
   "id": "338a8b7f-a378-41e6-8351-a02105c7f065",
   "metadata": {},
   "outputs": [
    {
     "data": {
      "text/plain": [
       "10"
      ]
     },
     "execution_count": 15,
     "metadata": {},
     "output_type": "execute_result"
    }
   ],
   "source": [
    "len(sales_data)"
   ]
  },
  {
   "cell_type": "code",
   "execution_count": 16,
   "id": "d2985e41-0b4d-42bd-a3ea-19bc60594ae1",
   "metadata": {},
   "outputs": [
    {
     "data": {
      "text/plain": [
       "10"
      ]
     },
     "execution_count": 16,
     "metadata": {},
     "output_type": "execute_result"
    }
   ],
   "source": [
    "len(product_details)"
   ]
  },
  {
   "cell_type": "code",
   "execution_count": 17,
   "id": "ebe92d0d-9677-4af1-a362-48407dfbcbfe",
   "metadata": {},
   "outputs": [
    {
     "data": {
      "text/plain": [
       "10"
      ]
     },
     "execution_count": 17,
     "metadata": {},
     "output_type": "execute_result"
    }
   ],
   "source": [
    "len(product_descriptions)"
   ]
  },
  {
   "cell_type": "markdown",
   "id": "b0e6a8c5-f6af-48c2-8f56-ff2189192a35",
   "metadata": {
    "jp-MarkdownHeadingCollapsed": true
   },
   "source": [
    "## Task 4 - Add sales data"
   ]
  },
  {
   "cell_type": "code",
   "execution_count": 18,
   "id": "9c5e5482-cc01-40ef-9693-75eeef8f8226",
   "metadata": {
    "scrolled": true
   },
   "outputs": [
    {
     "name": "stdout",
     "output_type": "stream",
     "text": [
      "{'AISJDKFJW93NJ': [10, 12, 15, 18, 20, 22, 25, 28, 26, 30, 32, 29, 27, 24],\n",
      " 'DJKFIEI432FIE': [8, 10, 12, 15, 20, 18, 14, 13, 17, 10, 8, 11, 14, 16],\n",
      " 'GGOENEBJ079499': [15, 18, 22, 25, 28, 20, 17, 23, 19, 21, 24, 27, 18, 20],\n",
      " 'HJSKNWK429DJE': [30, 32, 35, 38, 40, 42, 45, 48, 50, 52, 55, 53, 49, 47],\n",
      " 'JFKL3940NFKLJ': [18, 20, 22, 25, 28, 30, 32, 35, 38, 36, 33, 29, 26, 24],\n",
      " 'LKDFJ49LSDJKL': [25, 28, 30, 32, 35, 38, 42, 40, 37, 34, 36, 31, 29, 27],\n",
      " 'MWKDI3JFK39SL': [30, 35, 40, 45, 50, 42, 37, 38, 41, 36, 33, 39, 40, 44],\n",
      " 'NEKFJOWE9FDIW': [12, 15, 18, 20, 22, 24, 21, 23, 25, 28, 30, 27, 26, 29],\n",
      " 'OWEJL398FWJLK': [20, 22, 25, 28, 30, 32, 35, 38, 36, 33, 29, 26, 24, 27],\n",
      " 'XPLFJW2490XJN': [5, 8, 9, 12, 15, 10, 14, 16, 20, 18, 22, 25, 19, 21],\n",
      " 'CMWKCILOP27KF': [8, 14, 16, 7, 15, 21, 14, 16, 32, 29, 26, 30, 25, 22]}\n"
     ]
    }
   ],
   "source": [
    "def add_sales_data(sales_data, sku, quantities):\n",
    "    sales_data[sku] = quantities\n",
    "    return sales_data\n",
    "\n",
    "# New product's information\n",
    "new_sku = 'CMWKCILOP27KF'\n",
    "new_quantities = [8, 14, 16, 7, 15, 21, 14, 16, 32, 29, 26, 30, 25, 22]\n",
    "updated_sales_data = add_sales_data(sales_data, new_sku, new_quantities)\n",
    "pprint.pp(sales_data)\n"
   ]
  },
  {
   "cell_type": "markdown",
   "id": "3e8e311f-1cc5-4f20-9acd-be7912357ad9",
   "metadata": {
    "jp-MarkdownHeadingCollapsed": true
   },
   "source": [
    "## Task 5 - Add product details"
   ]
  },
  {
   "cell_type": "code",
   "execution_count": 19,
   "id": "2e00d815-e910-4e6b-9de8-f655a11268f6",
   "metadata": {},
   "outputs": [
    {
     "name": "stdout",
     "output_type": "stream",
     "text": [
      "{'AISJDKFJW93NJ': {'product_name': 'Wall Art Print',\n",
      "                   'brand': 'ArtCraft',\n",
      "                   'model': 'NatureCanvas-1001',\n",
      "                   'specifications': 'Canvas print, Ready to hang',\n",
      "                   'price': '$49.99',\n",
      "                   'availability': 'In stock'},\n",
      " 'DJKFIEI432FIE': {'product_name': \"Men's Running Shoes\",\n",
      "                   'brand': 'RunFit',\n",
      "                   'model': 'SpeedX-500',\n",
      "                   'specifications': 'Size 10, Lightweight design, Breathable '\n",
      "                                     'material',\n",
      "                   'price': '$79.99',\n",
      "                   'availability': 'In stock'},\n",
      " 'GGOENEBJ079499': {'product_name': 'Smartphone',\n",
      "                    'brand': 'XYZ Electronics',\n",
      "                    'model': 'ABC-2000',\n",
      "                    'specifications': '6.5-inch display, 128GB storage, 16MP '\n",
      "                                      'camera',\n",
      "                    'price': '$499.99',\n",
      "                    'availability': 'In stock'},\n",
      " 'HJSKNWK429DJE': {'product_name': 'Wireless Earbuds',\n",
      "                   'brand': 'SoundSync',\n",
      "                   'model': 'TunePro-2022',\n",
      "                   'specifications': 'Bluetooth 5.0, 20 hours battery life, '\n",
      "                                     'Touch controls',\n",
      "                   'price': '$89.99',\n",
      "                   'availability': 'In stock'},\n",
      " 'JFKL3940NFKLJ': {'product_name': 'Resistance Bands Set',\n",
      "                   'brand': 'FitFlex',\n",
      "                   'model': 'StrengthPro-300',\n",
      "                   'specifications': '5 bands, Varying resistance levels, '\n",
      "                                     'Portable',\n",
      "                   'price': '$34.99',\n",
      "                   'availability': 'In stock'},\n",
      " 'LKDFJ49LSDJKL': {'product_name': 'Anti-Aging Face Cream',\n",
      "                   'brand': 'GlowBeauty',\n",
      "                   'model': 'AgeDefy-300',\n",
      "                   'specifications': 'Natural ingredients, Hydrating formula',\n",
      "                   'price': '$39.99',\n",
      "                   'availability': 'In stock'},\n",
      " 'MWKDI3JFK39SL': {'product_name': 'Fictional Novel',\n",
      "                   'brand': 'BestBooks',\n",
      "                   'model': None,\n",
      "                   'specifications': 'Paperback, 300 pages',\n",
      "                   'price': '$14.99',\n",
      "                   'availability': 'In stock'},\n",
      " 'NEKFJOWE9FDIW': {'product_name': 'Board Game',\n",
      "                   'brand': 'FamilyFun',\n",
      "                   'model': 'GameNight-2022',\n",
      "                   'specifications': '2-6 players, Ages 8 and up',\n",
      "                   'price': '$29.99',\n",
      "                   'availability': 'In stock'},\n",
      " 'OWEJL398FWJLK': {'product_name': 'Yoga Mat',\n",
      "                   'brand': 'ZenFitness',\n",
      "                   'model': 'EcoMat-500',\n",
      "                   'specifications': 'Non-slip, 6mm thickness, Eco-friendly '\n",
      "                                     'material',\n",
      "                   'price': '$19.99',\n",
      "                   'availability': 'In stock'},\n",
      " 'XPLFJW2490XJN': {'product_name': 'Robot Vacuum Cleaner',\n",
      "                   'brand': 'CleanTech',\n",
      "                   'model': 'AutoSweep-9000',\n",
      "                   'specifications': 'Smart navigation, HEPA filter, 90 '\n",
      "                                     'minutes runtime',\n",
      "                   'price': '$249.99',\n",
      "                   'availability': 'In stock'},\n",
      " 'CMWKCILOP27KF': {'product_name': 'Pokemon Card',\n",
      "                   'brand': 'GameFreak',\n",
      "                   'model': 'ScarletViolet151',\n",
      "                   'specifications': 'Genuine, TCG, English',\n",
      "                   'price': '$1.99',\n",
      "                   'availability': 'In stock'}}\n"
     ]
    }
   ],
   "source": [
    "def add_product_details(product_details, sku, product_info):\n",
    "    product_details[sku] = product_info\n",
    "    return product_details\n",
    "\n",
    "# New product's information\n",
    "new_product_sku = 'CMWKCILOP27KF'\n",
    "new_product_info = {\n",
    "    'product_name': 'Pokemon Card',\n",
    "    'brand': 'GameFreak',\n",
    "    'model': 'ScarletViolet151',\n",
    "    'specifications': 'Genuine, TCG, English',\n",
    "    'price': '$1.99',\n",
    "    'availability': 'In stock'\n",
    "}\n",
    "\n",
    "# New product details\n",
    "product_details = add_product_details(product_details, new_product_sku, new_product_info)\n",
    "pprint.pp(product_details)"
   ]
  },
  {
   "cell_type": "markdown",
   "id": "5b1b28d7-0268-49bf-9699-96535cab31df",
   "metadata": {
    "jp-MarkdownHeadingCollapsed": true
   },
   "source": [
    "## Task 6 - Add product description"
   ]
  },
  {
   "cell_type": "code",
   "execution_count": 20,
   "id": "905745a3-a8ca-4f2c-8a03-b462d344b888",
   "metadata": {},
   "outputs": [
    {
     "name": "stdout",
     "output_type": "stream",
     "text": [
      "{'AISJDKFJW93NJ': \"Transform your living space with ArtCraft's \"\n",
      "                  'NatureCanvas-1001 Wall Art Print.\\n'\n",
      "                  'This canvas print, ready to hang, brings the beauty of '\n",
      "                  'nature into your home.\\n'\n",
      "                  'With dimensions of 16 x 20 inches and a 4.6/5 stars rating, '\n",
      "                  \"it's a stunning addition to your decor, creating a focal \"\n",
      "                  'point that captures attention and sparks conversation.',\n",
      " 'DJKFIEI432FIE': 'Elevate your running experience with the RunFit SpeedX-500 '\n",
      "                  \"Men's Running Shoes.\\n\"\n",
      "                  'Designed for performance, these shoes feature a lightweight '\n",
      "                  'design, breathable material, and are available in vibrant '\n",
      "                  'Red, Blue, and classic Black.\\n'\n",
      "                  \"Whether you're a seasoned runner or just starting, these \"\n",
      "                  'shoes provide comfort and support for every stride, '\n",
      "                  'ensuring you reach new milestones effortlessly.',\n",
      " 'GGOENEBJ079499': 'Dive into the future with the XYZ Electronics Smartphone, '\n",
      "                   'model ABC-2000.\\n'\n",
      "                   'Boasting a 6.5-inch display, 128GB storage, and a 16MP '\n",
      "                   'camera, this powerful device redefines the smartphone '\n",
      "                   'experience.\\n'\n",
      "                   'With a sleek design and available in Black, Silver, and '\n",
      "                   'Blue, it combines cutting-edge technology with style, '\n",
      "                   'ensuring you stay connected in the most sophisticated way '\n",
      "                   'possible.',\n",
      " 'HJSKNWK429DJE': \"Immerse yourself in superior audio quality with SoundSync's \"\n",
      "                  'TunePro-2022 Wireless Earbuds.\\n'\n",
      "                  'Featuring Bluetooth 5.0, 20 hours of battery life, and '\n",
      "                  'touch controls, these earbuds deliver a seamless and '\n",
      "                  'immersive listening experience.\\n'\n",
      "                  'Available in Black and White, they combine style with '\n",
      "                  'functionality for music lovers on the go. \\n'\n",
      "                  'With a 4.7/5 stars rating, they stand out as a top choice '\n",
      "                  'in the realm of wireless audio.',\n",
      " 'JFKL3940NFKLJ': \"Embrace versatility in your workouts with FitFlex's \"\n",
      "                  'StrengthPro-300 Resistance Bands Set.\\n'\n",
      "                  'With 5 bands offering varying resistance levels and '\n",
      "                  'portability, this set is your go-to for effective strength '\n",
      "                  'training.\\n'\n",
      "                  'Available in Red, Yellow, and Blue, it caters to different '\n",
      "                  'fitness levels and adds a dynamic dimension to your '\n",
      "                  'exercise routine.',\n",
      " 'LKDFJ49LSDJKL': \"Rediscover youthful radiance with GlowBeauty's AgeDefy-300 \"\n",
      "                  'Anti-Aging Face Cream.\\n'\n",
      "                  'Formulated with natural ingredients and a hydrating '\n",
      "                  'formula, this skincare essential rejuvenates and nourishes '\n",
      "                  'your skin, leaving you with a vibrant and refreshed '\n",
      "                  'complexion.\\n'\n",
      "                  \"With a stellar 4.7/5 stars rating, it's a must-have for \"\n",
      "                  'those embracing the journey to ageless beauty.',\n",
      " 'MWKDI3JFK39SL': 'Immerse yourself in the world of storytelling with '\n",
      "                  \"BestBooks' Fictional Novel.\\n\"\n",
      "                  'This paperback, spanning 300 pages, promises a captivating '\n",
      "                  'journey through the pages of an engaging narrative.\\n'\n",
      "                  'Ideal for avid readers seeking an escape, this novel, with '\n",
      "                  'a 4.6/5 stars rating, is a testament to its ability to '\n",
      "                  'weave a compelling tale that keeps you hooked until the '\n",
      "                  'last page.',\n",
      " 'NEKFJOWE9FDIW': \"Unleash the fun with FamilyFun's GameNight-2022 Board \"\n",
      "                  'Game.\\n'\n",
      "                  'Designed for 2-6 players and suitable for ages 8 and up, '\n",
      "                  'this exciting game promises laughter and bonding moments '\n",
      "                  'for the entire family.\\n'\n",
      "                  \"With a 4.4/5 stars rating, it's a testament to its ability \"\n",
      "                  'to turn any ordinary night into an extraordinary game night '\n",
      "                  'filled with friendly competition and shared joy.',\n",
      " 'OWEJL398FWJLK': \"Elevate your yoga practice with ZenFitness' EcoMat-500 Yoga \"\n",
      "                  'Mat.\\n'\n",
      "                  'Featuring a non-slip surface, 6mm thickness, and '\n",
      "                  'eco-friendly materials, this high-quality mat provides the '\n",
      "                  'perfect foundation for your workouts.\\n'\n",
      "                  'Available in Purple, Green, and Blue, it not only enhances '\n",
      "                  'your comfort but also adds a touch of serenity to your '\n",
      "                  'exercise routine.',\n",
      " 'XPLFJW2490XJN': 'Introducing the CleanTech AutoSweep-9000 Robot Vacuum '\n",
      "                  'Cleaner â€“ your smart companion for automated cleaning.\\n'\n",
      "                  'With smart navigation, a HEPA filter, and a runtime of 90 '\n",
      "                  'minutes, this efficient device takes care of your cleaning '\n",
      "                  'needs.\\n'\n",
      "                  'Available in White and Silver, it blends seamlessly into '\n",
      "                  'your home, making cleanliness a hassle-free experience.',\n",
      " 'CMWKCILOP27KF': 'Original Pokemon TCG Pikachu card'}\n"
     ]
    }
   ],
   "source": [
    "def add_product_description(product_descriptions, sku, description):\n",
    "    product_descriptions[sku] = description\n",
    "    return product_descriptions\n",
    "\n",
    "# New product's information\n",
    "new_sku = 'CMWKCILOP27KF'\n",
    "new_description = 'Original Pokemon TCG Pikachu card'\n",
    "\n",
    "updated_product_descriptions = add_product_description(product_descriptions, new_sku, new_description)\n",
    "pprint.pp(product_descriptions)"
   ]
  },
  {
   "cell_type": "markdown",
   "id": "710ada12-1cd1-41e1-9b4b-64d95ffa8d0b",
   "metadata": {
    "jp-MarkdownHeadingCollapsed": true
   },
   "source": [
    "## Task 7 - Create function"
   ]
  },
  {
   "cell_type": "code",
   "execution_count": 21,
   "id": "74acda4d-cc05-4879-9a99-2772db846037",
   "metadata": {},
   "outputs": [
    {
     "name": "stdin",
     "output_type": "stream",
     "text": [
      "Enter the product SKU:  CMWKCILOP27KJ\n",
      "Enter sales data for the last 14 days, separated by space:  1 2 3 4 5 6 7 1 2 3 4 5 6 7\n",
      "Enter the product name:  Pokemon Card Raichu\n",
      "Enter the brand:  Pokemon\n",
      "Enter the model:  GameFreak\n",
      "Enter the specifications:  Nice card\n",
      "Enter the price:  $2\n",
      "Enter the availability:  Yes\n",
      "Enter the product description:  Nice Raichu card\n"
     ]
    },
    {
     "name": "stdout",
     "output_type": "stream",
     "text": [
      "All product information for the new product was added successfully!\n"
     ]
    }
   ],
   "source": [
    "def create(product_details, sales_data, product_descriptions):\n",
    "    # Prompt user for product SKU\n",
    "    sku = input(\"Enter the product SKU: \")\n",
    "    if len(sku) != 13:\n",
    "        print(\"Error: SKU must be exactly 13 characters long.\")\n",
    "        return product_details, sales_data, product_descriptions\n",
    "    \n",
    "    # Prompt user for sales data\n",
    "    sales_input = input(\"Enter sales data for the last 14 days, separated by space: \")\n",
    "    sales_list = sales_input.split()\n",
    "    if len(sales_list) != 14 or not all(s.isdigit() for s in sales_list):\n",
    "        print(\"Error: Sales data must consist of exactly 14 integers.\")\n",
    "        return product_details, sales_data, product_descriptions\n",
    "    sales_data[sku] = [int(s) for s in sales_list]\n",
    "    \n",
    "    # Prompt user for product details\n",
    "    name = input(\"Enter the product name: \")\n",
    "    brand = input(\"Enter the brand: \")\n",
    "    model = input(\"Enter the model: \")\n",
    "    specifications = input(\"Enter the specifications: \")\n",
    "    price = input(\"Enter the price: \")\n",
    "    availability = input(\"Enter the availability: \")\n",
    "    product_details[sku] = {\n",
    "        'product_name': name,\n",
    "        'brand': brand,\n",
    "        'model': model,\n",
    "        'specifications': specifications,\n",
    "        'price': price,\n",
    "        'availability': availability\n",
    "    }\n",
    "    \n",
    "    # Prompt user for product description\n",
    "    description = input(\"Enter the product description: \")\n",
    "    product_descriptions[sku] = description\n",
    "    \n",
    "    print(\"All product information for the new product was added successfully!\")\n",
    "    \n",
    "    return product_details, sales_data, product_descriptions\n",
    "\n",
    "product_details, sales_data, product_descriptions = create(product_details, sales_data, product_descriptions)"
   ]
  },
  {
   "cell_type": "markdown",
   "id": "348a760e-54ae-4b10-93f9-9a82b6b8f4f4",
   "metadata": {
    "jp-MarkdownHeadingCollapsed": true
   },
   "source": [
    "## Task 8 - Display sales data"
   ]
  },
  {
   "cell_type": "code",
   "execution_count": 22,
   "id": "0aa1b680-2f7c-41aa-968a-5f4e38a57865",
   "metadata": {},
   "outputs": [
    {
     "name": "stdout",
     "output_type": "stream",
     "text": [
      "Sales data for SKU CMWKCILOP27KJ\n",
      "[1, 2, 3, 4, 5, 6, 7, 1, 2, 3, 4, 5, 6, 7]\n"
     ]
    }
   ],
   "source": [
    "def display_sales_data(sales_data, sku):\n",
    "    if sku in sales_data:\n",
    "        print(f\"Sales data for SKU {sku}\")\n",
    "        pprint.pprint(sales_data[sku])\n",
    "\n",
    "sku = 'CMWKCILOP27KJ'\n",
    "display_sales_data(sales_data, sku)   "
   ]
  },
  {
   "cell_type": "markdown",
   "id": "9f43a05e-d02f-479c-9587-703fb17c1ea0",
   "metadata": {
    "jp-MarkdownHeadingCollapsed": true
   },
   "source": [
    "## Task 9 - Display product details"
   ]
  },
  {
   "cell_type": "code",
   "execution_count": 23,
   "id": "816b2698-8149-40a7-ae43-c1a47c6acd75",
   "metadata": {},
   "outputs": [
    {
     "name": "stdout",
     "output_type": "stream",
     "text": [
      "Product details for SKU CMWKCILOP27KJ\n",
      "{'availability': 'Yes',\n",
      " 'brand': 'Pokemon',\n",
      " 'model': 'GameFreak',\n",
      " 'price': '$2',\n",
      " 'product_name': 'Pokemon Card Raichu',\n",
      " 'specifications': 'Nice card'}\n"
     ]
    }
   ],
   "source": [
    "def display_product_details(product_details, sku):\n",
    "    if sku in product_details:\n",
    "        print(f\"Product details for SKU {sku}\")\n",
    "        pprint.pprint(product_details[sku])\n",
    "\n",
    "sku = 'CMWKCILOP27KJ'\n",
    "display_product_details(product_details, sku)"
   ]
  },
  {
   "cell_type": "markdown",
   "id": "c72a7d92-fa9a-4255-9614-ab8a5ef5e0a8",
   "metadata": {
    "jp-MarkdownHeadingCollapsed": true
   },
   "source": [
    "## Task 10 - Display product description"
   ]
  },
  {
   "cell_type": "code",
   "execution_count": 24,
   "id": "51fa6596-db6d-4b5e-a10f-bb1cb92c5af5",
   "metadata": {},
   "outputs": [
    {
     "name": "stdout",
     "output_type": "stream",
     "text": [
      "Product description for SKU CMWKCILOP27KJ\n",
      "'Nice Raichu card'\n"
     ]
    }
   ],
   "source": [
    "def display_product_descriptions(product_descriptions, sku):\n",
    "    if sku in product_descriptions:\n",
    "        print(f\"Product description for SKU {sku}\")\n",
    "        pprint.pprint(product_descriptions[sku])\n",
    "\n",
    "sku = 'CMWKCILOP27KJ'\n",
    "display_product_descriptions(product_descriptions, sku)"
   ]
  },
  {
   "cell_type": "markdown",
   "id": "31159b63-8bd2-4208-8580-878d02bb1215",
   "metadata": {
    "jp-MarkdownHeadingCollapsed": true
   },
   "source": [
    "## Task 11 - Read function"
   ]
  },
  {
   "cell_type": "code",
   "execution_count": 25,
   "id": "5da3e5d3-eb98-43a6-b437-cc3154f1c846",
   "metadata": {},
   "outputs": [
    {
     "name": "stdin",
     "output_type": "stream",
     "text": [
      "Enter the product SKU:  CMWKCILOP27KJ\n"
     ]
    },
    {
     "name": "stdout",
     "output_type": "stream",
     "text": [
      "Sales data for SKU CMWKCILOP27KJ\n",
      "[1, 2, 3, 4, 5, 6, 7, 1, 2, 3, 4, 5, 6, 7]\n",
      "Product details for SKU CMWKCILOP27KJ\n",
      "{'availability': 'Yes',\n",
      " 'brand': 'Pokemon',\n",
      " 'model': 'GameFreak',\n",
      " 'price': '$2',\n",
      " 'product_name': 'Pokemon Card Raichu',\n",
      " 'specifications': 'Nice card'}\n",
      "Product description for SKU CMWKCILOP27KJ\n",
      "'Nice Raichu card'\n"
     ]
    }
   ],
   "source": [
    "def read(sales_data, product_details, product_descriptions):\n",
    "    \n",
    "    sku = input(\"Enter the product SKU: \")\n",
    "    \n",
    "    if (sku not in sales_data) and (sku not in product_details) and (sku not in product_descriptions):\n",
    "        print(f\"Product SKU {sku} not found in any data.\")\n",
    "        return\n",
    "    \n",
    "    display_sales_data(sales_data, sku)\n",
    "    display_product_details(product_details, sku)\n",
    "    display_product_descriptions(product_descriptions, sku)\n",
    "\n",
    "# Call the read function\n",
    "read(sales_data, product_details, product_descriptions)"
   ]
  },
  {
   "cell_type": "markdown",
   "id": "00bf465c-b48a-4ac6-b0de-357a0e70b8ca",
   "metadata": {
    "jp-MarkdownHeadingCollapsed": true
   },
   "source": [
    "## Task 12 - Update sales data"
   ]
  },
  {
   "cell_type": "code",
   "execution_count": 26,
   "id": "7afdf257-87b0-4b7d-9f42-ff914c74630b",
   "metadata": {},
   "outputs": [
    {
     "name": "stdout",
     "output_type": "stream",
     "text": [
      "{'AISJDKFJW93NJ': [10, 12, 15, 18, 20, 22, 25, 28, 26, 30, 32, 29, 27, 24],\n",
      " 'DJKFIEI432FIE': [8, 10, 12, 15, 20, 18, 14, 13, 17, 10, 8, 11, 14, 16],\n",
      " 'GGOENEBJ079499': [15, 18, 22, 25, 28, 20, 17, 23, 19, 21, 24, 27, 18, 20],\n",
      " 'HJSKNWK429DJE': [30, 32, 35, 38, 40, 42, 45, 48, 50, 52, 55, 53, 49, 47],\n",
      " 'JFKL3940NFKLJ': [18, 20, 22, 25, 28, 30, 32, 35, 38, 36, 33, 29, 26, 24],\n",
      " 'LKDFJ49LSDJKL': [25, 28, 30, 32, 35, 38, 42, 40, 37, 34, 36, 31, 29, 27],\n",
      " 'MWKDI3JFK39SL': [30, 35, 40, 45, 50, 42, 37, 38, 41, 36, 33, 39, 40, 44],\n",
      " 'NEKFJOWE9FDIW': [12, 15, 18, 20, 22, 24, 21, 23, 25, 28, 30, 27, 26, 29],\n",
      " 'OWEJL398FWJLK': [20, 22, 25, 28, 30, 32, 35, 38, 36, 33, 29, 26, 24, 27],\n",
      " 'XPLFJW2490XJN': [5, 8, 9, 12, 15, 10, 14, 16, 20, 18, 22, 25, 19, 21],\n",
      " 'CMWKCILOP27KF': [8, 14, 16, 7, 15, 21, 14, 16, 32, 29, 26, 30, 25, 22],\n",
      " 'CMWKCILOP27KJ': [1, 2, 3, 4, 5, 6, 7, 7, 6, 5, 4, 3, 2, 1]}\n"
     ]
    }
   ],
   "source": [
    "def update_sales_data(sales_data, sku, quantities):\n",
    "    sales_data[sku]=quantities\n",
    "    return sales_data\n",
    "\n",
    "sku = 'CMWKCILOP27KJ'\n",
    "quantities = [1, 2, 3, 4, 5, 6, 7, 7, 6, 5, 4, 3, 2, 1]\n",
    "updated_sales_data = update_sales_data(sales_data, sku, quantities)\n",
    "pprint.pp(sales_data)"
   ]
  },
  {
   "cell_type": "markdown",
   "id": "4149a368-c04a-4eb0-8dec-482b97804963",
   "metadata": {
    "jp-MarkdownHeadingCollapsed": true
   },
   "source": [
    "## Task 13 - Update product details"
   ]
  },
  {
   "cell_type": "code",
   "execution_count": 27,
   "id": "6bf288e2-c9f7-4606-ae34-e4aecf4e3dc7",
   "metadata": {},
   "outputs": [
    {
     "name": "stdout",
     "output_type": "stream",
     "text": [
      "{'AISJDKFJW93NJ': {'product_name': 'Wall Art Print',\n",
      "                   'brand': 'ArtCraft',\n",
      "                   'model': 'NatureCanvas-1001',\n",
      "                   'specifications': 'Canvas print, Ready to hang',\n",
      "                   'price': '$49.99',\n",
      "                   'availability': 'In stock'},\n",
      " 'DJKFIEI432FIE': {'product_name': \"Men's Running Shoes\",\n",
      "                   'brand': 'RunFit',\n",
      "                   'model': 'SpeedX-500',\n",
      "                   'specifications': 'Size 10, Lightweight design, Breathable '\n",
      "                                     'material',\n",
      "                   'price': '$79.99',\n",
      "                   'availability': 'In stock'},\n",
      " 'GGOENEBJ079499': {'product_name': 'Smartphone',\n",
      "                    'brand': 'XYZ Electronics',\n",
      "                    'model': 'ABC-2000',\n",
      "                    'specifications': '6.5-inch display, 128GB storage, 16MP '\n",
      "                                      'camera',\n",
      "                    'price': '$499.99',\n",
      "                    'availability': 'In stock'},\n",
      " 'HJSKNWK429DJE': {'product_name': 'Wireless Earbuds',\n",
      "                   'brand': 'SoundSync',\n",
      "                   'model': 'TunePro-2022',\n",
      "                   'specifications': 'Bluetooth 5.0, 20 hours battery life, '\n",
      "                                     'Touch controls',\n",
      "                   'price': '$89.99',\n",
      "                   'availability': 'In stock'},\n",
      " 'JFKL3940NFKLJ': {'product_name': 'Resistance Bands Set',\n",
      "                   'brand': 'FitFlex',\n",
      "                   'model': 'StrengthPro-300',\n",
      "                   'specifications': '5 bands, Varying resistance levels, '\n",
      "                                     'Portable',\n",
      "                   'price': '$34.99',\n",
      "                   'availability': 'In stock'},\n",
      " 'LKDFJ49LSDJKL': {'product_name': 'Anti-Aging Face Cream',\n",
      "                   'brand': 'GlowBeauty',\n",
      "                   'model': 'AgeDefy-300',\n",
      "                   'specifications': 'Natural ingredients, Hydrating formula',\n",
      "                   'price': '$39.99',\n",
      "                   'availability': 'In stock'},\n",
      " 'MWKDI3JFK39SL': {'product_name': 'Fictional Novel',\n",
      "                   'brand': 'BestBooks',\n",
      "                   'model': None,\n",
      "                   'specifications': 'Paperback, 300 pages',\n",
      "                   'price': '$14.99',\n",
      "                   'availability': 'In stock'},\n",
      " 'NEKFJOWE9FDIW': {'product_name': 'Board Game',\n",
      "                   'brand': 'FamilyFun',\n",
      "                   'model': 'GameNight-2022',\n",
      "                   'specifications': '2-6 players, Ages 8 and up',\n",
      "                   'price': '$29.99',\n",
      "                   'availability': 'In stock'},\n",
      " 'OWEJL398FWJLK': {'product_name': 'Yoga Mat',\n",
      "                   'brand': 'ZenFitness',\n",
      "                   'model': 'EcoMat-500',\n",
      "                   'specifications': 'Non-slip, 6mm thickness, Eco-friendly '\n",
      "                                     'material',\n",
      "                   'price': '$19.99',\n",
      "                   'availability': 'In stock'},\n",
      " 'XPLFJW2490XJN': {'product_name': 'Robot Vacuum Cleaner',\n",
      "                   'brand': 'CleanTech',\n",
      "                   'model': 'AutoSweep-9000',\n",
      "                   'specifications': 'Smart navigation, HEPA filter, 90 '\n",
      "                                     'minutes runtime',\n",
      "                   'price': '$249.99',\n",
      "                   'availability': 'In stock'},\n",
      " 'CMWKCILOP27KF': {'product_name': 'Pokemon Card',\n",
      "                   'brand': 'GameFreak',\n",
      "                   'model': 'ScarletViolet151',\n",
      "                   'specifications': 'Genuine, TCG, English',\n",
      "                   'price': '$1.99',\n",
      "                   'availability': 'In stock'},\n",
      " 'CMWKCILOP27KJ': {'availability': 'No',\n",
      "                   'brand': 'Pokemon',\n",
      "                   'model': 'GameFreak',\n",
      "                   'price': '$5',\n",
      "                   'product_name': 'Pokemon Card Raichu',\n",
      "                   'specifications': 'Nice card'}}\n"
     ]
    }
   ],
   "source": [
    "def update_product_details(product_details, sku, updated_details):\n",
    "    product_details[sku] = updated_details\n",
    "    return product_details\n",
    "\n",
    "sku = 'CMWKCILOP27KJ'\n",
    "updated_details = {'availability': 'No',\n",
    "  'brand': 'Pokemon',\n",
    "  'model': 'GameFreak',\n",
    "  'price': '$5',\n",
    "  'product_name': 'Pokemon Card Raichu',\n",
    "  'specifications': 'Nice card'}\n",
    "\n",
    "updated_product_details = update_product_details(product_details, sku, updated_details)\n",
    "\n",
    "pprint.pp(product_details)"
   ]
  },
  {
   "cell_type": "markdown",
   "id": "0d5f5ee4-aa50-46d6-a87a-9db7d6b44716",
   "metadata": {
    "jp-MarkdownHeadingCollapsed": true
   },
   "source": [
    "## Task 14 - Update product description"
   ]
  },
  {
   "cell_type": "code",
   "execution_count": 28,
   "id": "ee92358e-b7b9-4683-8863-d3bee6e76ac3",
   "metadata": {},
   "outputs": [
    {
     "name": "stdout",
     "output_type": "stream",
     "text": [
      "{'AISJDKFJW93NJ': \"Transform your living space with ArtCraft's \"\n",
      "                  'NatureCanvas-1001 Wall Art Print.\\n'\n",
      "                  'This canvas print, ready to hang, brings the beauty of '\n",
      "                  'nature into your home.\\n'\n",
      "                  'With dimensions of 16 x 20 inches and a 4.6/5 stars rating, '\n",
      "                  \"it's a stunning addition to your decor, creating a focal \"\n",
      "                  'point that captures attention and sparks conversation.',\n",
      " 'DJKFIEI432FIE': 'Elevate your running experience with the RunFit SpeedX-500 '\n",
      "                  \"Men's Running Shoes.\\n\"\n",
      "                  'Designed for performance, these shoes feature a lightweight '\n",
      "                  'design, breathable material, and are available in vibrant '\n",
      "                  'Red, Blue, and classic Black.\\n'\n",
      "                  \"Whether you're a seasoned runner or just starting, these \"\n",
      "                  'shoes provide comfort and support for every stride, '\n",
      "                  'ensuring you reach new milestones effortlessly.',\n",
      " 'GGOENEBJ079499': 'Dive into the future with the XYZ Electronics Smartphone, '\n",
      "                   'model ABC-2000.\\n'\n",
      "                   'Boasting a 6.5-inch display, 128GB storage, and a 16MP '\n",
      "                   'camera, this powerful device redefines the smartphone '\n",
      "                   'experience.\\n'\n",
      "                   'With a sleek design and available in Black, Silver, and '\n",
      "                   'Blue, it combines cutting-edge technology with style, '\n",
      "                   'ensuring you stay connected in the most sophisticated way '\n",
      "                   'possible.',\n",
      " 'HJSKNWK429DJE': \"Immerse yourself in superior audio quality with SoundSync's \"\n",
      "                  'TunePro-2022 Wireless Earbuds.\\n'\n",
      "                  'Featuring Bluetooth 5.0, 20 hours of battery life, and '\n",
      "                  'touch controls, these earbuds deliver a seamless and '\n",
      "                  'immersive listening experience.\\n'\n",
      "                  'Available in Black and White, they combine style with '\n",
      "                  'functionality for music lovers on the go. \\n'\n",
      "                  'With a 4.7/5 stars rating, they stand out as a top choice '\n",
      "                  'in the realm of wireless audio.',\n",
      " 'JFKL3940NFKLJ': \"Embrace versatility in your workouts with FitFlex's \"\n",
      "                  'StrengthPro-300 Resistance Bands Set.\\n'\n",
      "                  'With 5 bands offering varying resistance levels and '\n",
      "                  'portability, this set is your go-to for effective strength '\n",
      "                  'training.\\n'\n",
      "                  'Available in Red, Yellow, and Blue, it caters to different '\n",
      "                  'fitness levels and adds a dynamic dimension to your '\n",
      "                  'exercise routine.',\n",
      " 'LKDFJ49LSDJKL': \"Rediscover youthful radiance with GlowBeauty's AgeDefy-300 \"\n",
      "                  'Anti-Aging Face Cream.\\n'\n",
      "                  'Formulated with natural ingredients and a hydrating '\n",
      "                  'formula, this skincare essential rejuvenates and nourishes '\n",
      "                  'your skin, leaving you with a vibrant and refreshed '\n",
      "                  'complexion.\\n'\n",
      "                  \"With a stellar 4.7/5 stars rating, it's a must-have for \"\n",
      "                  'those embracing the journey to ageless beauty.',\n",
      " 'MWKDI3JFK39SL': 'Immerse yourself in the world of storytelling with '\n",
      "                  \"BestBooks' Fictional Novel.\\n\"\n",
      "                  'This paperback, spanning 300 pages, promises a captivating '\n",
      "                  'journey through the pages of an engaging narrative.\\n'\n",
      "                  'Ideal for avid readers seeking an escape, this novel, with '\n",
      "                  'a 4.6/5 stars rating, is a testament to its ability to '\n",
      "                  'weave a compelling tale that keeps you hooked until the '\n",
      "                  'last page.',\n",
      " 'NEKFJOWE9FDIW': \"Unleash the fun with FamilyFun's GameNight-2022 Board \"\n",
      "                  'Game.\\n'\n",
      "                  'Designed for 2-6 players and suitable for ages 8 and up, '\n",
      "                  'this exciting game promises laughter and bonding moments '\n",
      "                  'for the entire family.\\n'\n",
      "                  \"With a 4.4/5 stars rating, it's a testament to its ability \"\n",
      "                  'to turn any ordinary night into an extraordinary game night '\n",
      "                  'filled with friendly competition and shared joy.',\n",
      " 'OWEJL398FWJLK': \"Elevate your yoga practice with ZenFitness' EcoMat-500 Yoga \"\n",
      "                  'Mat.\\n'\n",
      "                  'Featuring a non-slip surface, 6mm thickness, and '\n",
      "                  'eco-friendly materials, this high-quality mat provides the '\n",
      "                  'perfect foundation for your workouts.\\n'\n",
      "                  'Available in Purple, Green, and Blue, it not only enhances '\n",
      "                  'your comfort but also adds a touch of serenity to your '\n",
      "                  'exercise routine.',\n",
      " 'XPLFJW2490XJN': 'Introducing the CleanTech AutoSweep-9000 Robot Vacuum '\n",
      "                  'Cleaner â€“ your smart companion for automated cleaning.\\n'\n",
      "                  'With smart navigation, a HEPA filter, and a runtime of 90 '\n",
      "                  'minutes, this efficient device takes care of your cleaning '\n",
      "                  'needs.\\n'\n",
      "                  'Available in White and Silver, it blends seamlessly into '\n",
      "                  'your home, making cleanliness a hassle-free experience.',\n",
      " 'CMWKCILOP27KF': 'Original Pokemon TCG Pikachu card',\n",
      " 'CMWKCILOP27KJ': 'Super nice card'}\n"
     ]
    }
   ],
   "source": [
    "def update_product_descriptions(product_descriptions, sku, updated_description):\n",
    "    product_descriptions[sku] = updated_description\n",
    "    return product_descriptions\n",
    "\n",
    "sku = 'CMWKCILOP27KJ'\n",
    "updated_description = 'Super nice card'\n",
    "\n",
    "updated_product_description = update_product_descriptions(product_descriptions, sku, updated_description)\n",
    "\n",
    "pprint.pp(product_descriptions)"
   ]
  },
  {
   "cell_type": "markdown",
   "id": "f1387c51-9282-4240-9bbc-be3aa0fd4d8d",
   "metadata": {
    "jp-MarkdownHeadingCollapsed": true
   },
   "source": [
    "## Task 15 - Update function"
   ]
  },
  {
   "cell_type": "code",
   "execution_count": 29,
   "id": "033ae269-07cc-4a9c-b32d-b8919eb9a146",
   "metadata": {},
   "outputs": [
    {
     "name": "stdin",
     "output_type": "stream",
     "text": [
      "Enter the product SKU to update:  CMWKCILOP27KJ\n"
     ]
    },
    {
     "name": "stdout",
     "output_type": "stream",
     "text": [
      "Select the data you want to update:\n",
      "1. Sales Data\n",
      "2. Product Details\n",
      "3. Product Descriptions\n",
      "4. Exit\n"
     ]
    },
    {
     "name": "stdin",
     "output_type": "stream",
     "text": [
      "Enter your choice (1-4):  1\n",
      "Enter updated quantities for all days (space-separated):  1 2 3 4 5 6 7 1 2 3 4 5 6 7\n"
     ]
    },
    {
     "name": "stdout",
     "output_type": "stream",
     "text": [
      "The sales data is updated successfully.\n",
      "Select the data you want to update:\n",
      "1. Sales Data\n",
      "2. Product Details\n",
      "3. Product Descriptions\n",
      "4. Exit\n"
     ]
    },
    {
     "name": "stdin",
     "output_type": "stream",
     "text": [
      "Enter your choice (1-4):  2\n",
      "Enter the updated product name:  Zapdos Pokemon Card\n",
      "Enter the updated brand:  Pokemon\n",
      "Enter the updated model:  GameFreak\n",
      "Enter the updated specifications:  Holographic\n",
      "Enter the updated price:  $6\n",
      "Enter the updated availability:  Yes\n"
     ]
    },
    {
     "name": "stdout",
     "output_type": "stream",
     "text": [
      "The product details are updated successfully.\n",
      "Select the data you want to update:\n",
      "1. Sales Data\n",
      "2. Product Details\n",
      "3. Product Descriptions\n",
      "4. Exit\n"
     ]
    },
    {
     "name": "stdin",
     "output_type": "stream",
     "text": [
      "Enter your choice (1-4):  3\n",
      "Enter the updated product description:  Super amazing nice Pokemon card\n"
     ]
    },
    {
     "name": "stdout",
     "output_type": "stream",
     "text": [
      "The product description is updated successfully.\n",
      "Select the data you want to update:\n",
      "1. Sales Data\n",
      "2. Product Details\n",
      "3. Product Descriptions\n",
      "4. Exit\n"
     ]
    },
    {
     "name": "stdin",
     "output_type": "stream",
     "text": [
      "Enter your choice (1-4):  4\n"
     ]
    },
    {
     "name": "stdout",
     "output_type": "stream",
     "text": [
      "Exiting...\n"
     ]
    }
   ],
   "source": [
    "def update(product_details, sales_data, product_descriptions):\n",
    "\n",
    "    def update_sales_data(sales_data, sku, quantities):\n",
    "        sales_data[sku] = quantities\n",
    "        return sales_data\n",
    "\n",
    "    def update_product_details(product_details, sku, updated_details):\n",
    "        product_details[sku] = updated_details\n",
    "        return product_details\n",
    "\n",
    "    def update_product_descriptions(product_descriptions, sku, updated_description):\n",
    "        product_descriptions[sku] = updated_description\n",
    "        return product_descriptions\n",
    "\n",
    "\n",
    "    sku = input(\"Enter the product SKU to update: \")\n",
    "\n",
    "    def print_menu():\n",
    "        print(\"Select the data you want to update:\")\n",
    "        print(\"1. Sales Data\")\n",
    "        print(\"2. Product Details\")\n",
    "        print(\"3. Product Descriptions\")\n",
    "        print(\"4. Exit\")\n",
    "\n",
    "    while True:\n",
    "        print_menu()\n",
    "        choice = input(\"Enter your choice (1-4): \")\n",
    "\n",
    "        if choice == '4':\n",
    "            print(\"Exiting...\")\n",
    "            break\n",
    "        elif choice == '1':\n",
    "            if sku in sales_data:\n",
    "                quantities = input(\"Enter updated quantities for all days (space-separated): \").split(' ')\n",
    "                quantities = [int(qty.strip()) for qty in quantities]\n",
    "                sales_data = update_sales_data(sales_data, sku, quantities)\n",
    "                print(\"The sales data is updated successfully.\")\n",
    "            else:\n",
    "                print(\"SKU not found.\")\n",
    "        elif choice == '2':\n",
    "            if sku in product_details:\n",
    "                updated_details['product_name'] = input(\"Enter the updated product name: \")\n",
    "                updated_details['brand'] = input(\"Enter the updated brand: \")\n",
    "                updated_details['model'] = input(\"Enter the updated model: \")\n",
    "                updated_details['specifications'] = input(\"Enter the updated specifications: \")\n",
    "                updated_details['price'] = input(\"Enter the updated price: \")\n",
    "                updated_details['availability'] = input(\"Enter the updated availability: \")\n",
    "                product_details = update_product_details(product_details, sku, updated_details)\n",
    "                print(\"The product details are updated successfully.\")\n",
    "            else:\n",
    "                print(\"SKU not found.\")\n",
    "        elif choice == '3':\n",
    "            if sku in product_descriptions:\n",
    "                updated_description = input(\"Enter the updated product description: \")\n",
    "                product_descriptions = update_product_descriptions(product_descriptions, sku, updated_description)\n",
    "                print(\"The product description is updated successfully.\")\n",
    "            else:\n",
    "                print(\"SKU not found.\")\n",
    "\n",
    "\n",
    "    return product_details, sales_data, product_descriptions\n",
    "\n",
    "updated_product_details, updated_sales_data, updated_product_descriptions = update(product_details, sales_data, product_descriptions)"
   ]
  },
  {
   "cell_type": "markdown",
   "id": "d9dcc661-e143-4de5-a7b3-c16169586499",
   "metadata": {
    "jp-MarkdownHeadingCollapsed": true
   },
   "source": [
    "## Task 16 - Delete function"
   ]
  },
  {
   "cell_type": "code",
   "execution_count": 30,
   "id": "dadb59c0-7ce7-43c4-8c54-c8a274692c24",
   "metadata": {},
   "outputs": [
    {
     "name": "stdin",
     "output_type": "stream",
     "text": [
      "Enter the SKU of the product to be deleted:  CMWKCILOP27KJ\n"
     ]
    },
    {
     "name": "stdout",
     "output_type": "stream",
     "text": [
      "Entries for SKU 'CMWKCILOP27KJ' have been deleted successfully.\n",
      "JSON file for SKU 'CMWKCILOP27KJ' not found.\n",
      "Text file for SKU 'CMWKCILOP27KJ' not found.\n"
     ]
    }
   ],
   "source": [
    "def delete(sales_data, product_details, product_descriptions, main_folder):\n",
    "    sku = input(\"Enter the SKU of the product to be deleted: \")\n",
    "\n",
    "    if sku in sales_data:\n",
    "        del sales_data[sku]\n",
    "    if sku in product_details:\n",
    "        del product_details[sku]\n",
    "    if sku in product_descriptions:\n",
    "        del product_descriptions[sku]\n",
    "\n",
    "    details_file = os.path.join(main_folder, \"product_details\", f\"{sku}.json\")\n",
    "    descriptions_file = os.path.join(main_folder, \"product_descriptions\", f\"{sku}.txt\")\n",
    "\n",
    "    print(f\"Entries for SKU '{sku}' have been deleted successfully.\")\n",
    "\n",
    "    if os.path.exists(details_file):\n",
    "        os.remove(details_file)\n",
    "    else:\n",
    "        print(f\"JSON file for SKU '{sku}' not found.\")\n",
    "\n",
    "    if os.path.exists(descriptions_file):\n",
    "        os.remove(descriptions_file)\n",
    "    else:\n",
    "        print(f\"Text file for SKU '{sku}' not found.\")\n",
    "\n",
    "    return sales_data, product_details, product_descriptions\n",
    "\n",
    "\n",
    "updated_sales_data, updated_product_details, updated_product_descriptions = delete(sales_data, product_details, product_descriptions, \"E:\\main_folder_address\")\n"
   ]
  },
  {
   "cell_type": "markdown",
   "id": "ff57306d-9a81-4f35-87c0-374e5f1a4b06",
   "metadata": {
    "jp-MarkdownHeadingCollapsed": true
   },
   "source": [
    "## Task 17 - Save data to disk"
   ]
  },
  {
   "cell_type": "code",
   "execution_count": 31,
   "id": "f6bf0cf0-b189-42c2-b8a6-cac6fa49aa90",
   "metadata": {},
   "outputs": [],
   "source": [
    "def dump_data(sales_data, product_details, product_descriptions, main_folder):\n",
    "    sales_csv = os.path.join(main_folder, 'sales_data.csv')\n",
    "    with open(sales_csv, mode='w', newline='') as csv_file:\n",
    "        fieldnames = ['Product_SKU'] + [f'Day{i}' for i in range(1, 15)]\n",
    "        writer = csv.DictWriter(csv_file, fieldnames=fieldnames)\n",
    "        writer.writeheader()\n",
    "        for sku, sales in sales_data.items():\n",
    "            writer.writerow({'Product_SKU': sku, **{f'Day{i}': sales[i - 1] for i in range(1, 15)}})\n",
    "\n",
    "    products_dir = os.path.join(main_folder, 'product_details')\n",
    "    os.makedirs(products_dir, exist_ok=True)\n",
    "    for sku, details in product_details.items():\n",
    "        with open(os.path.join(products_dir, f'{sku}.json'), 'w') as json_file:\n",
    "            json.dump(details, json_file, indent=4)\n",
    "\n",
    "    descriptions_dir = os.path.join(main_folder, 'product_descriptions')\n",
    "    os.makedirs(descriptions_dir, exist_ok=True)\n",
    "    for sku, description in product_descriptions.items():\n",
    "        with open(os.path.join(descriptions_dir, f'{sku}.txt'), 'w') as text_file:\n",
    "            text_file.write(description)\n",
    "\n",
    "dump_data(updated_sales_data, updated_product_details, updated_product_descriptions, \"E:\\main_folder_address\")"
   ]
  },
  {
   "cell_type": "markdown",
   "id": "9a2ca9ea-3af8-48dd-8a20-f5e62ca15fc7",
   "metadata": {
    "jp-MarkdownHeadingCollapsed": true
   },
   "source": [
    "## Task 18 - Create a user menu"
   ]
  },
  {
   "cell_type": "code",
   "execution_count": 32,
   "id": "330adb88-ea43-4930-8b25-b13c2375b793",
   "metadata": {},
   "outputs": [
    {
     "name": "stdout",
     "output_type": "stream",
     "text": [
      "\n",
      "Main Menu:\n",
      "1. Create\n",
      "2. Read\n",
      "3. Update\n",
      "4. Delete\n",
      "5. Exit\n"
     ]
    },
    {
     "name": "stdin",
     "output_type": "stream",
     "text": [
      "Enter your choice (1-5):  1\n",
      "Enter the product SKU:  CMWKCILOP27KO\n",
      "Enter sales data for the last 14 days, separated by space:  1 1 1 1 1 1 1 2 2 2 2 2 2 2\n",
      "Enter the product name:  Magikarp Card\n",
      "Enter the brand:  Pokemon\n",
      "Enter the model:  GameFreak Holo\n",
      "Enter the specifications:  Holographic Rare Card\n",
      "Enter the price:  $4\n",
      "Enter the availability:  Yes\n",
      "Enter the product description:  Nice carp, I mean, card\n"
     ]
    },
    {
     "name": "stdout",
     "output_type": "stream",
     "text": [
      "All product information for the new product was added successfully!\n",
      "\n",
      "Main Menu:\n",
      "1. Create\n",
      "2. Read\n",
      "3. Update\n",
      "4. Delete\n",
      "5. Exit\n"
     ]
    },
    {
     "name": "stdin",
     "output_type": "stream",
     "text": [
      "Enter your choice (1-5):  2\n",
      "Enter the product SKU:  CMWKCILOP27KO\n"
     ]
    },
    {
     "name": "stdout",
     "output_type": "stream",
     "text": [
      "Sales data for SKU CMWKCILOP27KO\n",
      "{'availability': 'Yes',\n",
      " 'brand': 'Pokemon',\n",
      " 'model': 'GameFreak Holo',\n",
      " 'price': '$4',\n",
      " 'product_name': 'Magikarp Card',\n",
      " 'specifications': 'Holographic Rare Card'}\n",
      "Product details for SKU CMWKCILOP27KO\n",
      "[1, 1, 1, 1, 1, 1, 1, 2, 2, 2, 2, 2, 2, 2]\n",
      "Product description for SKU CMWKCILOP27KO\n",
      "'Nice carp, I mean, card'\n",
      "\n",
      "Main Menu:\n",
      "1. Create\n",
      "2. Read\n",
      "3. Update\n",
      "4. Delete\n",
      "5. Exit\n"
     ]
    },
    {
     "name": "stdin",
     "output_type": "stream",
     "text": [
      "Enter your choice (1-5):  3\n",
      "Enter the product SKU to update:  CMWKCILOP27KO\n"
     ]
    },
    {
     "name": "stdout",
     "output_type": "stream",
     "text": [
      "Select the data you want to update:\n",
      "1. Sales Data\n",
      "2. Product Details\n",
      "3. Product Descriptions\n",
      "4. Exit\n"
     ]
    },
    {
     "name": "stdin",
     "output_type": "stream",
     "text": [
      "Enter your choice (1-4):  1\n",
      "Enter updated quantities for all days (space-separated):  1 1 1 1 1 1 1 0 0 0 0 0 0 0\n"
     ]
    },
    {
     "name": "stdout",
     "output_type": "stream",
     "text": [
      "The sales data is updated successfully.\n",
      "Select the data you want to update:\n",
      "1. Sales Data\n",
      "2. Product Details\n",
      "3. Product Descriptions\n",
      "4. Exit\n"
     ]
    },
    {
     "name": "stdin",
     "output_type": "stream",
     "text": [
      "Enter your choice (1-4):  4\n"
     ]
    },
    {
     "name": "stdout",
     "output_type": "stream",
     "text": [
      "Exiting...\n",
      "\n",
      "Main Menu:\n",
      "1. Create\n",
      "2. Read\n",
      "3. Update\n",
      "4. Delete\n",
      "5. Exit\n"
     ]
    },
    {
     "name": "stdin",
     "output_type": "stream",
     "text": [
      "Enter your choice (1-5):  4\n",
      "Enter the SKU of the product to be deleted:  CMWKCILOP27KO\n"
     ]
    },
    {
     "name": "stdout",
     "output_type": "stream",
     "text": [
      "Entries for SKU 'CMWKCILOP27KO' have been deleted successfully.\n",
      "JSON file for SKU 'CMWKCILOP27KO' not found.\n",
      "Text file for SKU 'CMWKCILOP27KO' not found.\n",
      "\n",
      "Main Menu:\n",
      "1. Create\n",
      "2. Read\n",
      "3. Update\n",
      "4. Delete\n",
      "5. Exit\n"
     ]
    },
    {
     "name": "stdin",
     "output_type": "stream",
     "text": [
      "Enter your choice (1-5):  5\n"
     ]
    },
    {
     "name": "stdout",
     "output_type": "stream",
     "text": [
      "Exiting...\n"
     ]
    }
   ],
   "source": [
    "def user_menu(main_folder):\n",
    "    product_details, sales_data, product_descriptions = load_data(main_folder)\n",
    "    \n",
    "    while True:\n",
    "        print(\"\\nMain Menu:\")\n",
    "        print(\"1. Create\")\n",
    "        print(\"2. Read\")\n",
    "        print(\"3. Update\")\n",
    "        print(\"4. Delete\")\n",
    "        print(\"5. Exit\")\n",
    "\n",
    "        choice = input(\"Enter your choice (1-5): \")\n",
    "\n",
    "        if choice == '5':\n",
    "            print(\"Exiting...\")\n",
    "            break\n",
    "        elif choice == '1':\n",
    "            product_details, sales_data, product_descriptions = create(product_details, sales_data, product_descriptions)\n",
    "        elif choice == '2':\n",
    "            read(product_details, sales_data, product_descriptions)\n",
    "        elif choice == '3':\n",
    "            product_details, sales_data, product_descriptions = update(product_details, sales_data, product_descriptions)\n",
    "        elif choice == '4':\n",
    "            sales_data, product_details, product_descriptions = delete(sales_data, product_details, product_descriptions, main_folder)\n",
    "\n",
    "user_menu(\"E:\\main_folder_address\")"
   ]
  }
 ],
 "metadata": {
  "kernelspec": {
   "display_name": "Python 3 (ipykernel)",
   "language": "python",
   "name": "python3"
  },
  "language_info": {
   "codemirror_mode": {
    "name": "ipython",
    "version": 3
   },
   "file_extension": ".py",
   "mimetype": "text/x-python",
   "name": "python",
   "nbconvert_exporter": "python",
   "pygments_lexer": "ipython3",
   "version": "3.11.7"
  }
 },
 "nbformat": 4,
 "nbformat_minor": 5
}
